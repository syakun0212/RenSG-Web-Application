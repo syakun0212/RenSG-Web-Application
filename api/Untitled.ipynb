{
 "cells": [
  {
   "cell_type": "code",
   "execution_count": 9,
   "id": "7bb50fa4",
   "metadata": {},
   "outputs": [
    {
     "name": "stdout",
     "output_type": "stream",
     "text": [
      "Connected to SQLite\n",
      "List of tables\n",
      "\n",
      "[('user',), ('listing',), ('listing_image',)]\n"
     ]
    }
   ],
   "source": [
    "import sqlite3\n",
    "sqliteConnection = sqlite3.connect('db1.sqlite')\n",
    "\n",
    "# If sqlite3 makes a connection with python\n",
    "# program then it will print \"Connected to SQLite\"\n",
    "# Otherwise it will show errors\n",
    "print(\"Connected to SQLite\")\n",
    "\n",
    "# Getting all tables from sqlite_master\n",
    "sql_query = \"\"\"SELECT name FROM sqlite_master \n",
    "WHERE type='table';\"\"\"\n",
    "\n",
    "# Creating cursor object using connection object\n",
    "cursor = sqliteConnection.cursor()\n",
    "\n",
    "# executing our sql query\n",
    "cursor.execute(sql_query)\n",
    "print(\"List of tables\\n\")\n",
    "\n",
    "# printing all tables list\n",
    "print(cursor.fetchall())"
   ]
  },
  {
   "cell_type": "code",
   "execution_count": 23,
   "id": "b8b1e280",
   "metadata": {},
   "outputs": [
    {
     "name": "stdout",
     "output_type": "stream",
     "text": [
      "List of tables\n",
      "\n",
      "[(1, 'bang011@e.ntu.edu.sg', 'sha256$5spVXh8n5EtPzrwm$ea7ef3008a1296c012f20216fb4999a07c3a5594c16a6d1bec2ca231c9132ff3')]\n"
     ]
    }
   ],
   "source": [
    "sql_query = \"\"\"SELECT * FROM user;\"\"\"\n",
    "\n",
    "# Creating cursor object using connection object\n",
    "cursor = sqliteConnection.cursor()\n",
    "\n",
    "# executing our sql query\n",
    "cursor.execute(sql_query)\n",
    "print(\"List of tables\\n\")\n",
    "# printing all tables list\n",
    "print(cursor.fetchall())"
   ]
  },
  {
   "cell_type": "code",
   "execution_count": null,
   "id": "0ad0164a",
   "metadata": {},
   "outputs": [],
   "source": [
    "sql_query = \"\"\"PRAGMA table_info(user);\"\"\"\n",
    "\n",
    "# Creating cursor object using connection object\n",
    "cursor = sqliteConnection.cursor()\n",
    "\n",
    "# executing our sql query\n",
    "cursor.execute(sql_query)\n",
    "print(\"List of tables\\n\")\n",
    "\n",
    "# printing all tables list\n",
    "print(cursor.fetchall())"
   ]
  },
  {
   "cell_type": "code",
   "execution_count": 11,
   "id": "21af9cc8",
   "metadata": {},
   "outputs": [
    {
     "name": "stdout",
     "output_type": "stream",
     "text": [
      "List of tables\n",
      "\n",
      "[(1, 123456, 'somelocation', 1, 'Test', 'adawdwada', 111.0, 1, '2022-02-03 17:45:12.889870', 1), (2, 123456, 'somelocation', 1, 'Test', 'adawdwada', 111.0, 1, '2022-02-03 17:49:04.392928', 1)]\n"
     ]
    }
   ],
   "source": [
    "sql_query = \"\"\"SELECT * FROM listing;\"\"\"\n",
    "\n",
    "# Creating cursor object using connection object\n",
    "cursor = sqliteConnection.cursor()\n",
    "\n",
    "# executing our sql query\n",
    "cursor.execute(sql_query)\n",
    "print(\"List of tables\\n\")\n",
    "\n",
    "# printing all tables list\n",
    "print(cursor.fetchall())"
   ]
  },
  {
   "cell_type": "code",
   "execution_count": 12,
   "id": "3e9a8fa0",
   "metadata": {},
   "outputs": [
    {
     "name": "stdout",
     "output_type": "stream",
     "text": [
      "List of tables\n",
      "\n",
      "[(1, 2, '17e9696c9433f544eea68dabb297366c'), (2, 2, '4dc6f4dbcae114e4b810d35d36d5b602')]\n"
     ]
    }
   ],
   "source": [
    "sql_query = \"\"\"SELECT * FROM listing_image;\"\"\"\n",
    "\n",
    "# Creating cursor object using connection object\n",
    "cursor = sqliteConnection.cursor()\n",
    "\n",
    "# executing our sql query\n",
    "cursor.execute(sql_query)\n",
    "print(\"List of tables\\n\")\n",
    "\n",
    "# printing all tables list\n",
    "print(cursor.fetchall())"
   ]
  },
  {
   "cell_type": "code",
   "execution_count": null,
   "id": "d18a3fd7",
   "metadata": {},
   "outputs": [],
   "source": []
  }
 ],
 "metadata": {
  "kernelspec": {
   "display_name": "Python 3 (ipykernel)",
   "language": "python",
   "name": "python3"
  },
  "language_info": {
   "codemirror_mode": {
    "name": "ipython",
    "version": 3
   },
   "file_extension": ".py",
   "mimetype": "text/x-python",
   "name": "python",
   "nbconvert_exporter": "python",
   "pygments_lexer": "ipython3",
   "version": "3.9.12"
  }
 },
 "nbformat": 4,
 "nbformat_minor": 5
}
